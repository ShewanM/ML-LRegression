{
 "cells": [
  {
   "cell_type": "code",
   "execution_count": null,
   "metadata": {},
   "outputs": [],
   "source": []
  },
  {
   "cell_type": "code",
   "execution_count": 3,
   "metadata": {},
   "outputs": [
    {
     "name": "stdout",
     "output_type": "stream",
     "text": [
      "Hello World\n"
     ]
    }
   ],
   "source": [
    "print(\"Hello World\")"
   ]
  },
  {
   "cell_type": "code",
   "execution_count": 4,
   "metadata": {},
   "outputs": [
    {
     "name": "stdout",
     "output_type": "stream",
     "text": [
      "[1400 1600 1700 1875 1100 1550 2350 2450 1425 1700]\n",
      "[[1400]\n",
      " [1600]\n",
      " [1700]\n",
      " [1875]\n",
      " [1100]\n",
      " [1550]\n",
      " [2350]\n",
      " [2450]\n",
      " [1425]\n",
      " [1700]]\n",
      "Coefficients= [0.10976774]\n",
      "intercept = 98.24832962138092\n",
      "[251.92316258]\n"
     ]
    },
    {
     "data": {
      "image/png": "[encoded data removed]",
      "text/plain": [
       "<Figure size 432x288 with 1 Axes>"
      ]
     },
     "metadata": {
      "needs_background": "light"
     },
     "output_type": "display_data"
    }
   ],
   "source": [
    "import matplotlib.pyplot as plt\n",
    "import numpy as np\n",
    "from sklearn import datasets, linear_model\n",
    "\n",
    "#load dataset\n",
    "house_price=[245,312,279,308,199,219,405,324,319,255]\n",
    "size=[1400,1600,1700,1875,1100,1550,2350,2450,1425,1700]\n",
    "#print(size)\n",
    "#reshape the inpit to the regression\n",
    "\n",
    "size3=np.array(size)\n",
    "print(size3)\n",
    "size2=np.array(size).reshape(-1,1)\n",
    "print(size2)\n",
    "regr = linear_model.LinearRegression()\n",
    "regr.fit(size2,house_price)\n",
    "print(\"Coefficients=\",regr.coef_)\n",
    "print(\"intercept =\",regr.intercept_)\n",
    "\n",
    "size_new = 1400\n",
    "#price = (size_new*regr.coef_) + regr.intercept_\n",
    "#print(\"price= \", price)\n",
    "print(regr.predict([[size_new]]))\n",
    "\n",
    "def graph (LrEq,x_range):\n",
    "    x=x_range\n",
    "    #x=np.array(x_range)\n",
    "    y=eval(LrEq)\n",
    "    plt.plot(x,y)\n",
    "\n",
    "graph ('regr.coef_*x + regr.intercept_',range(1000, 3000))\n",
    "plt.scatter(size, house_price, color='red',linewidths='2')\n",
    "plt.ylabel('house price')\n",
    "plt.xlabel('size of the house')\n",
    "plt.show()\n",
    "       "
   ]
  },
  {
   "cell_type": "code",
   "execution_count": null,
   "metadata": {},
   "outputs": [],
   "source": []
  },
  {
   "cell_type": "code",
   "execution_count": null,
   "metadata": {},
   "outputs": [],
   "source": []
  },
  {
   "cell_type": "code",
   "execution_count": null,
   "metadata": {},
   "outputs": [],
   "source": []
  }
 ],
 "metadata": {
  "kernelspec": {
   "display_name": "Python 3",
   "language": "python",
   "name": "python3"
  },
  "language_info": {
   "codemirror_mode": {
    "name": "ipython",
    "version": 3
   },
   "file_extension": ".py",
   "mimetype": "text/x-python",
   "name": "python",
   "nbconvert_exporter": "python",
   "pygments_lexer": "ipython3",
   "version": "3.7.0"
  }
 },
 "nbformat": 4,
 "nbformat_minor": 2
}
